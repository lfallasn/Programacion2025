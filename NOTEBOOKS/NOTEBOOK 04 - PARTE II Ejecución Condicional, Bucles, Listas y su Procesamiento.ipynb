{
    "cells": [
        {
            "attachments": {},
            "cell_type": "markdown",
            "metadata": {
                "azdata_cell_guid": "5a9661f6-9c22-438b-8530-debb92fea2ff"
            },
            "source": [
                "# NOTEBOOK 04 - PARTE II Ejecución Condicional, Bucles, Listas y su Procesamiento\n",
                "\n",
                "## Fundamentos de Python | UMCA\n",
                "\n",
                "## Profesor: Ing. Andrés Mena Abarca\n",
                "\n",
                "### <mark>**Nombre del estudiante:**</mark> Leonardo FN\n",
                "\n",
                "* * *\n",
                "    \n",
                "    \n",
                "## **¿Qué son las Listas en Python?**\n",
                "\n",
                "Imagina que tienes una caja mágica que puede contener todo tipo de objetos: desde libros, juguetes, hasta otros contenedores con más objetos dentro. No solo eso, esta caja tiene la capacidad de cambiar su contenido en cualquier momento; puedes agregar nuevos objetos, eliminar los que ya no necesitas o reorganizar su interior. En Python, esta caja mágica es lo que llamamos una **lista**.\n",
                "\n",
                "## **Definición Formal:**\n",
                "\n",
                "Una **lista** en Python es una estructura de datos **ordenada** y **mutable** que puede contener una colección de elementos, los cuales pueden ser de diferentes tipos (enteros, cadenas, booleanos, otras listas, etc.). Las listas son muy versátiles y son una de las estructuras más utilizadas en Python debido a su flexibilidad y facilidad de uso.\n",
                "\n",
                "### **Características Clave de las Listas**\n",
                "\n",
                "1. **Ordenadas:** Mantienen el orden de los elementos tal y como fueron agregados.\n",
                "2. **Mutables:** Puedes modificar su contenido sin crear una nueva lista.\n",
                "3. **Indexadas:** Cada elemento tiene una posición (índice) que permite acceder a él.\n",
                "4. **Heterogéneas:** Pueden contener elementos de diferentes tipos.\n",
                "\n",
                "### **Analogía Creativa: La Lista como un Tren**\n",
                "\n",
                "Imagina una lista como un tren compuesto por varios vagones. Cada vagón (elemento) tiene un número (índice) y puede contener cualquier cosa: pasajeros, carga, incluso otros vagones (listas anidadas). Puedes:\n",
                "\n",
                "- **Acceder** a un vagón específico usando su número.\n",
                "- **Agregar** o **eliminar** vagones en cualquier posición.\n",
                "- **Reordenar** los vagones según tus necesidades.\n",
                "\n",
                "### **1\\. Creación de Listas**\n",
                "\n",
                "### \n",
                "\n",
                "**Sintaxis básica:**\n",
                "\n",
                "```\n",
                "mi_lista = [elemento1, elemento2, elemento3]\n",
                "```\n",
                "\n",
                "Puedes crear listas de varias formas:\n",
                "\n",
                "1. **Lista Vacía:**"
            ]
        },
        {
            "cell_type": "code",
            "execution_count": 57,
            "metadata": {
                "azdata_cell_guid": "65553934-e4e4-4b44-aa2e-b234d1a33667",
                "language": "python"
            },
            "outputs": [
                {
                    "name": "stdout",
                    "output_type": "stream",
                    "text": [
                        "16\n"
                    ]
                }
            ],
            "source": [
                "mi_lista = [15,16,17]\n",
                "print(mi_lista [1])\n",
                "# Imprime el primer elemento de la lista"
            ]
        },
        {
            "attachments": {},
            "cell_type": "markdown",
            "metadata": {
                "azdata_cell_guid": "27d04572-8b5b-46fa-b3ee-4ed3f2939a34",
                "language": "python"
            },
            "source": [
                "2. **Lista con Elementos:**"
            ]
        },
        {
            "cell_type": "code",
            "execution_count": 58,
            "metadata": {
                "azdata_cell_guid": "0ed8a61e-b610-437d-9a78-c75ab079f2b7",
                "language": "python"
            },
            "outputs": [
                {
                    "name": "stdout",
                    "output_type": "stream",
                    "text": [
                        "la persona Leonardo tiene 16 años, su número de teléfono es 7095-3016 y su peso es 55.8 kg.\n",
                        "de los pilotos mas malos es Lando \n"
                    ]
                }
            ],
            "source": [
                "#Crea tres tipo de listas diferentes\n",
                "edades = [13,14,15,16,17,18,19]\n",
                "frutas = [\"manzana\", \"banano\", \"naranja\", \"pera\",]\n",
                "           #0     #1         #2        #3\n",
                "Leo =[\"leonardo\",\"16\",\"7095-3016\",False, 55.8]\n",
                "# Imprime el segundo elemento de la lista edades\n",
                "print(f\"la persona Leonardo tiene {Leo[1]} años, su número de teléfono es {Leo[2]} y su peso es {Leo[4]} kg.\")\n",
                "F1= [\"Lando\",\"Max\",\"Hamilton\"]\n",
                "print(f\"de los pilotos mas malos es {F1[0]}\", \"\")\n",
                "\n"
            ]
        },
        {
            "attachments": {},
            "cell_type": "markdown",
            "metadata": {
                "azdata_cell_guid": "babcfd28-f173-4adb-b593-c5cf58370bc0",
                "language": "python"
            },
            "source": [
                "3. **Usando la Función list():**"
            ]
        },
        {
            "cell_type": "code",
            "execution_count": 59,
            "metadata": {
                "azdata_cell_guid": "85051147-a5a3-40e9-a423-179ac721be03",
                "language": "python"
            },
            "outputs": [
                {
                    "name": "stdout",
                    "output_type": "stream",
                    "text": [
                        "['h', 'o', 'l', 'a', ' ', 'c', 'o', 'm', 'o', ' ', 'e', 's', 't', 'a', 's']\n"
                    ]
                }
            ],
            "source": [
                "#Convertir en lista la cadena 'abcdefghijk'\n",
                "frase = \"hola como estas\"\n",
                "lista = list(frase)\n",
                "print(lista)"
            ]
        },
        {
            "attachments": {},
            "cell_type": "markdown",
            "metadata": {
                "azdata_cell_guid": "e75d82f8-c903-459c-b6b4-3cdc9d23ac5c"
            },
            "source": [
                "### **2\\. Acceso a Elementos**\n",
                "\n",
                "Puedes acceder a los elementos de una lista usando índices.\n",
                "\n",
                "**Ejemplo:**"
            ]
        },
        {
            "cell_type": "code",
            "execution_count": 60,
            "metadata": {
                "azdata_cell_guid": "26417c6c-aa5d-41a9-b7c7-fa268a476a6d",
                "language": "python",
                "tags": []
            },
            "outputs": [],
            "source": [
                "#Trabajemos con la lista frutas\n",
                "\n"
            ]
        },
        {
            "attachments": {},
            "cell_type": "markdown",
            "metadata": {
                "azdata_cell_guid": "ac71941a-8e0d-4ea1-98ff-b293ecd8defb",
                "language": "python"
            },
            "source": [
                "### **3\\. Modificación de Elementos**\n",
                "\n",
                "Al ser mutables, puedes cambiar los valores de los elementos existentes.\n",
                "\n",
                "**Ejemplo:**"
            ]
        },
        {
            "cell_type": "code",
            "execution_count": 61,
            "metadata": {},
            "outputs": [
                {
                    "ename": "KeyboardInterrupt",
                    "evalue": "Interrupted by user",
                    "output_type": "error",
                    "traceback": [
                        "\u001b[31m---------------------------------------------------------------------------\u001b[39m",
                        "\u001b[31mKeyboardInterrupt\u001b[39m                         Traceback (most recent call last)",
                        "\u001b[36mCell\u001b[39m\u001b[36m \u001b[39m\u001b[32mIn[61]\u001b[39m\u001b[32m, line 5\u001b[39m\n\u001b[32m      3\u001b[39m profesor[\u001b[32m3\u001b[39m] = \u001b[32m1.70\u001b[39m\n\u001b[32m      4\u001b[39m profesor[\u001b[32m4\u001b[39m] = \u001b[33m\"\u001b[39m\u001b[33mciencias\u001b[39m\u001b[33m\"\u001b[39m\n\u001b[32m----> \u001b[39m\u001b[32m5\u001b[39m profesor[\u001b[32m2\u001b[39m] = \u001b[38;5;28;43minput\u001b[39;49m\u001b[43m(\u001b[49m\u001b[33;43m\"\u001b[39;49m\u001b[33;43mingrese el apellido correcto:\u001b[39;49m\u001b[33;43m\"\u001b[39;49m\u001b[43m)\u001b[49m\n\u001b[32m      7\u001b[39m \u001b[38;5;28mprint\u001b[39m (profesor)\n",
                        "\u001b[36mFile \u001b[39m\u001b[32m~\\AppData\\Roaming\\Python\\Python313\\site-packages\\ipykernel\\kernelbase.py:1282\u001b[39m, in \u001b[36mKernel.raw_input\u001b[39m\u001b[34m(self, prompt)\u001b[39m\n\u001b[32m   1280\u001b[39m     msg = \u001b[33m\"\u001b[39m\u001b[33mraw_input was called, but this frontend does not support input requests.\u001b[39m\u001b[33m\"\u001b[39m\n\u001b[32m   1281\u001b[39m     \u001b[38;5;28;01mraise\u001b[39;00m StdinNotImplementedError(msg)\n\u001b[32m-> \u001b[39m\u001b[32m1282\u001b[39m \u001b[38;5;28;01mreturn\u001b[39;00m \u001b[38;5;28;43mself\u001b[39;49m\u001b[43m.\u001b[49m\u001b[43m_input_request\u001b[49m\u001b[43m(\u001b[49m\n\u001b[32m   1283\u001b[39m \u001b[43m    \u001b[49m\u001b[38;5;28;43mstr\u001b[39;49m\u001b[43m(\u001b[49m\u001b[43mprompt\u001b[49m\u001b[43m)\u001b[49m\u001b[43m,\u001b[49m\n\u001b[32m   1284\u001b[39m \u001b[43m    \u001b[49m\u001b[38;5;28;43mself\u001b[39;49m\u001b[43m.\u001b[49m\u001b[43m_parent_ident\u001b[49m\u001b[43m[\u001b[49m\u001b[33;43m\"\u001b[39;49m\u001b[33;43mshell\u001b[39;49m\u001b[33;43m\"\u001b[39;49m\u001b[43m]\u001b[49m\u001b[43m,\u001b[49m\n\u001b[32m   1285\u001b[39m \u001b[43m    \u001b[49m\u001b[38;5;28;43mself\u001b[39;49m\u001b[43m.\u001b[49m\u001b[43mget_parent\u001b[49m\u001b[43m(\u001b[49m\u001b[33;43m\"\u001b[39;49m\u001b[33;43mshell\u001b[39;49m\u001b[33;43m\"\u001b[39;49m\u001b[43m)\u001b[49m\u001b[43m,\u001b[49m\n\u001b[32m   1286\u001b[39m \u001b[43m    \u001b[49m\u001b[43mpassword\u001b[49m\u001b[43m=\u001b[49m\u001b[38;5;28;43;01mFalse\u001b[39;49;00m\u001b[43m,\u001b[49m\n\u001b[32m   1287\u001b[39m \u001b[43m\u001b[49m\u001b[43m)\u001b[49m\n",
                        "\u001b[36mFile \u001b[39m\u001b[32m~\\AppData\\Roaming\\Python\\Python313\\site-packages\\ipykernel\\kernelbase.py:1325\u001b[39m, in \u001b[36mKernel._input_request\u001b[39m\u001b[34m(self, prompt, ident, parent, password)\u001b[39m\n\u001b[32m   1322\u001b[39m \u001b[38;5;28;01mexcept\u001b[39;00m \u001b[38;5;167;01mKeyboardInterrupt\u001b[39;00m:\n\u001b[32m   1323\u001b[39m     \u001b[38;5;66;03m# re-raise KeyboardInterrupt, to truncate traceback\u001b[39;00m\n\u001b[32m   1324\u001b[39m     msg = \u001b[33m\"\u001b[39m\u001b[33mInterrupted by user\u001b[39m\u001b[33m\"\u001b[39m\n\u001b[32m-> \u001b[39m\u001b[32m1325\u001b[39m     \u001b[38;5;28;01mraise\u001b[39;00m \u001b[38;5;167;01mKeyboardInterrupt\u001b[39;00m(msg) \u001b[38;5;28;01mfrom\u001b[39;00m\u001b[38;5;250m \u001b[39m\u001b[38;5;28;01mNone\u001b[39;00m\n\u001b[32m   1326\u001b[39m \u001b[38;5;28;01mexcept\u001b[39;00m \u001b[38;5;167;01mException\u001b[39;00m:\n\u001b[32m   1327\u001b[39m     \u001b[38;5;28mself\u001b[39m.log.warning(\u001b[33m\"\u001b[39m\u001b[33mInvalid Message:\u001b[39m\u001b[33m\"\u001b[39m, exc_info=\u001b[38;5;28;01mTrue\u001b[39;00m)\n",
                        "\u001b[31mKeyboardInterrupt\u001b[39m: Interrupted by user"
                    ]
                }
            ],
            "source": [
                "            \n",
                "profesor = [\"110592345\",\"Marcos\",\"guerrero\",1.55,\"matematicas\"]\n",
                "profesor[3] = 1.70\n",
                "profesor[4] = \"ciencias\"\n",
                "profesor[2] = input(\"ingrese el apellido correcto:\")\n",
                "\n",
                "print (profesor)"
            ]
        },
        {
            "attachments": {},
            "cell_type": "markdown",
            "metadata": {
                "azdata_cell_guid": "7d08ceac-43f5-4144-9a55-2524859d645c"
            },
            "source": [
                "### **4\\. Slicing (Segmentación)**\n",
                "\n",
                "Puedes obtener sublistas usando la notación de slicing.\n",
                "\n",
                "**Sintaxis:**\n",
                "\n",
                "```\n",
                "sub_lista = lista[inicio:fin:paso]\n",
                "```"
            ]
        },
        {
            "cell_type": "code",
            "execution_count": null,
            "metadata": {
                "azdata_cell_guid": "ac546c59-6cc2-47f1-8b71-daeb61c6475c",
                "language": "python"
            },
            "outputs": [
                {
                    "name": "stdout",
                    "output_type": "stream",
                    "text": [
                        "[2, 3, 4]\n",
                        "[0, 1, 2]\n",
                        "[3, 4, 5, 6]\n",
                        "[0, 2, 4, 6]\n",
                        "[6, 5, 4, 3, 2, 1, 0]\n"
                    ]
                }
            ],
            "source": [
                "numeros = [0, 1, 2, 3, 4, 5, 6]\n",
                "\n",
                "# Output: [2, 3, 4]\n",
                "print(numeros[2:5]) \n",
                "\n",
                "\n",
                "# Output: [0, 1, 2]\n",
                "print(numeros[:3])\n",
                "\n",
                "\n",
                "# Output: [3, 4, 5, 6]\n",
                "print(numeros[3:])\n",
                "\n",
                "# Output: [0, 2, 4, 6] # 0 = para contar desde el principio, 2= para saltar de dos en dos\n",
                "print(numeros[::2])\n",
                "\n",
                "\n",
                "# Output: [6, 5, 4, 3, 2, 1, 0] # -1= para contar en sentido inverso\n",
                "print(numeros[::-1])"
            ]
        },
        {
            "attachments": {},
            "cell_type": "markdown",
            "metadata": {
                "azdata_cell_guid": "90552ad9-627b-42bd-84b0-f87e15cfe087"
            },
            "source": [
                "### **5\\. Operaciones Básicas con Listas**\n",
                "\n",
                "### \n",
                "\n",
                "- **Concatenación:**"
            ]
        },
        {
            "cell_type": "code",
            "execution_count": null,
            "metadata": {
                "azdata_cell_guid": "90b5ee62-7483-4012-88a1-415f1716cb3e",
                "language": "python"
            },
            "outputs": [
                {
                    "name": "stdout",
                    "output_type": "stream",
                    "text": [
                        "[1, 2, 3, 4, 5, 6]\n"
                    ]
                }
            ],
            "source": [
                "lista1 = [1, 2, 3]\n",
                "lista2 = [4, 5, 6]\n",
                "\n",
                "#Concatenar las dos listas\n",
                "lista_nueva = lista1 + lista2\n",
                "print(lista_nueva)  \n"
            ]
        },
        {
            "attachments": {},
            "cell_type": "markdown",
            "metadata": {
                "azdata_cell_guid": "912eadcc-91f2-4468-9b5a-16d0bc78cde0",
                "language": "python"
            },
            "source": [
                "- **Repetición:**"
            ]
        },
        {
            "cell_type": "code",
            "execution_count": null,
            "metadata": {
                "azdata_cell_guid": "b5433f45-d0e6-41bf-9115-d70097905500",
                "language": "python"
            },
            "outputs": [
                {
                    "name": "stdout",
                    "output_type": "stream",
                    "text": [
                        "['leo', 'Dinero', 'Sapo', 'leo', 'Dinero', 'Sapo', 'leo', 'Dinero', 'Sapo']\n"
                    ]
                }
            ],
            "source": [
                "#Repetir la lista1 tres veces\n",
                "estudiantes = [\"leo\",\"Dinero\",\"Sapo\"]\n",
                "print(estudiantes * 3)"
            ]
        },
        {
            "attachments": {},
            "cell_type": "markdown",
            "metadata": {
                "azdata_cell_guid": "a1bffa0c-75b2-4adf-84c7-ea247d6d226a",
                "language": "python"
            },
            "source": [
                "### **6\\. Métodos Comunes de Listas**\n",
                "\n",
                "1. **Agregar Elementos:**\n",
                "    \n",
                "- **append(elemento):** Añade un elemento al final."
            ]
        },
        {
            "cell_type": "code",
            "execution_count": null,
            "metadata": {
                "azdata_cell_guid": "a08acaf0-4336-416b-b901-a7e88f898efc",
                "language": "python"
            },
            "outputs": [
                {
                    "name": "stdout",
                    "output_type": "stream",
                    "text": [
                        "['leo', 'Dinero', 'Sapo']\n",
                        "['leo', 'Dinero', 'Sapo', 'Matt']\n"
                    ]
                }
            ],
            "source": [
                "estudiantes = [\"leo\",\"Dinero\",\"Sapo\"]\n",
                "print(estudiantes)\n",
                "\n",
                "estudiantes.append(\"Matt\")\n",
                "print(estudiantes)"
            ]
        },
        {
            "attachments": {},
            "cell_type": "markdown",
            "metadata": {
                "azdata_cell_guid": "1d0f59c8-cf18-4eee-9bcd-ed678e4b8a80",
                "language": "python"
            },
            "source": [
                "- **extend(iterable):** Extiende la lista con elementos de un iterable."
            ]
        },
        {
            "cell_type": "code",
            "execution_count": null,
            "metadata": {
                "azdata_cell_guid": "ad4cd691-47dd-4b8a-a62c-5e2c5894c9c5",
                "language": "python"
            },
            "outputs": [
                {
                    "name": "stdout",
                    "output_type": "stream",
                    "text": [
                        "['leo', 'Dinero', 'Sapo', 'Matt', 'Dinero', 'Sapo', 'Catalina', 'Miguel', 'Catalina', 'Miguel', 'Catalina', 'Miguel', 'Catalina', 'Miguel', 'Catalina', 'Miguel', 'Catalina', 'Miguel', 'Catalina', 'Miguel']\n",
                        "['leo', 'Dinero', 'Sapo', 'Matt', 'Dinero', 'Sapo', 'Catalina', 'Miguel', 'Catalina', 'Miguel', 'Catalina', 'Miguel', 'Catalina', 'Miguel', 'Catalina', 'Miguel', 'Catalina', 'Miguel', 'Catalina', 'Miguel', 'Catalina', 'Miguel']\n"
                    ]
                }
            ],
            "source": [
                "#Agregar dos elementos mas a la lista\n",
                "print(estudiantes)\n",
                "traslados = [ \"Catalina\", \"Miguel\"]\n",
                "\n",
                "estudiantes.extend(traslados) #    estudiantes = estudiantes + traslados\n",
                "print(estudiantes)\n"
            ]
        },
        {
            "attachments": {},
            "cell_type": "markdown",
            "metadata": {
                "azdata_cell_guid": "3d999463-d09f-4447-b4be-b038ed530f03",
                "language": "python"
            },
            "source": [
                "- **insert(índice, elemento):** Inserta un elemento en una posición específica."
            ]
        },
        {
            "cell_type": "code",
            "execution_count": null,
            "metadata": {
                "azdata_cell_guid": "b0b48116-a1cd-43a0-9987-75e9c99423ad",
                "language": "python"
            },
            "outputs": [
                {
                    "name": "stdout",
                    "output_type": "stream",
                    "text": [
                        "['Matt', 'leo', 'Dinero', 'Sapo']\n"
                    ]
                }
            ],
            "source": [
                "#Insertar en un posición especifica 1\n",
                "estudiantes = [\"leo\",\"Dinero\",\"Sapo\"]\n",
                "estudiantes.insert(0,\"Matt\")\n",
                "print(estudiantes)\n",
                "#Insertar en un posición especifica 2\n"
            ]
        },
        {
            "attachments": {},
            "cell_type": "markdown",
            "metadata": {
                "azdata_cell_guid": "b72219b2-85ec-48de-a0d3-d2fb2acae839",
                "language": "python"
            },
            "source": [
                "**2\\. Eliminar Elementos:**\n",
                "\n",
                "- **remove(elemento):** Elimina el primer elemento con el valor especificado."
            ]
        },
        {
            "cell_type": "code",
            "execution_count": null,
            "metadata": {
                "azdata_cell_guid": "76056d32-857e-402e-a413-b68436e450b9",
                "language": "python"
            },
            "outputs": [
                {
                    "name": "stdout",
                    "output_type": "stream",
                    "text": [
                        "['Matt', 'leo', 'Dinero', 'Sapo']\n",
                        "['leo', 'Dinero', 'Sapo']\n"
                    ]
                }
            ],
            "source": [
                "print(estudiantes)\n",
                "estudiantes.remove(\"Matt\")  # Elimina el primer elemento que coincida con \"Matt\"\n",
                "print(estudiantes)"
            ]
        },
        {
            "attachments": {},
            "cell_type": "markdown",
            "metadata": {
                "azdata_cell_guid": "fabd778a-c197-458f-839f-8fd3bfdb2d9b",
                "language": "python"
            },
            "source": [
                "**pop(índice):** Elimina y devuelve el elemento en el índice especificado."
            ]
        },
        {
            "cell_type": "code",
            "execution_count": null,
            "metadata": {
                "azdata_cell_guid": "28a29944-e61c-4257-8440-db41702ecf27",
                "language": "python"
            },
            "outputs": [
                {
                    "name": "stdout",
                    "output_type": "stream",
                    "text": [
                        "['leo', 'Sapo']\n"
                    ]
                }
            ],
            "source": [
                "estudiantes.pop(1)  # Elimina el Ultimo elemento de la lista\n",
                "print(estudiantes)"
            ]
        },
        {
            "attachments": {},
            "cell_type": "markdown",
            "metadata": {
                "azdata_cell_guid": "214e5d4b-48ef-4936-b3d7-67fc209b9413",
                "language": "python"
            },
            "source": [
                "- **clear():** Elimina todos los elementos de la lista."
            ]
        },
        {
            "cell_type": "code",
            "execution_count": null,
            "metadata": {
                "azdata_cell_guid": "99039b69-3193-4ff5-b185-883d0c198f42",
                "language": "python"
            },
            "outputs": [
                {
                    "name": "stdout",
                    "output_type": "stream",
                    "text": [
                        "[]\n"
                    ]
                }
            ],
            "source": [
                " # Elimina todos los elementos de la listaestudiantes.clear()\n",
                "estudiantes.clear()\n",
                "print(estudiantes)\n"
            ]
        },
        {
            "attachments": {},
            "cell_type": "markdown",
            "metadata": {
                "azdata_cell_guid": "0ab9e912-56b9-4d97-a531-6a1d9be1236a",
                "language": "python"
            },
            "source": [
                "3. **Ordenar y Revertir:**\n",
                "\n",
                "- **sort():** Ordena la lista en orden ascendente."
            ]
        },
        {
            "cell_type": "code",
            "execution_count": null,
            "metadata": {
                "azdata_cell_guid": "143cb071-e30e-4111-8584-d5165cb0277c",
                "language": "python"
            },
            "outputs": [
                {
                    "name": "stdout",
                    "output_type": "stream",
                    "text": [
                        "[1, 1, 3, 4, 5, 9]\n"
                    ]
                }
            ],
            "source": [
                "numeros = [3, 1, 4, 1, 5, 9]\n",
                "numeros.sort()  \n",
                "print(numeros)"
            ]
        },
        {
            "attachments": {},
            "cell_type": "markdown",
            "metadata": {
                "azdata_cell_guid": "2a2de66a-3b2f-42bd-8acd-8af6251e89a8",
                "language": "python"
            },
            "source": [
                "**reverse():** <span style=\"color: var(--vscode-foreground);\"> Invierte el orden de la lista.</span>"
            ]
        },
        {
            "cell_type": "code",
            "execution_count": null,
            "metadata": {
                "azdata_cell_guid": "91b18583-e7da-4457-8676-965551158de8",
                "language": "python",
                "tags": []
            },
            "outputs": [
                {
                    "name": "stdout",
                    "output_type": "stream",
                    "text": [
                        "[9, 5, 4, 3, 1, 1]\n"
                    ]
                }
            ],
            "source": [
                "# Output: [9, 5, 4, 3, 1, 1]\n",
                "numeros.reverse()  \n",
                "print(numeros)"
            ]
        },
        {
            "attachments": {},
            "cell_type": "markdown",
            "metadata": {
                "azdata_cell_guid": "872eb471-9968-4c9d-9b34-f48d30e2bb52",
                "language": "python"
            },
            "source": [
                "### **Iteración sobre Listas**\n",
                "\n",
                "- **Usando un Bucle `for`:**"
            ]
        },
        {
            "cell_type": "code",
            "execution_count": null,
            "metadata": {
                "azdata_cell_guid": "65b98600-e0c2-4a62-9d0e-a51734e898fd",
                "language": "python"
            },
            "outputs": [
                {
                    "name": "stdout",
                    "output_type": "stream",
                    "text": [
                        "hola leo, como estas?\n",
                        "hola Dinero, como estas?\n",
                        "hola Sapo, como estas?\n",
                        "['LEO', 'DINERO', 'SAPO']\n"
                    ]
                }
            ],
            "source": [
                "\n",
                "estudiantes = [\"leo\",\"Dinero\",\"Sapo\"]\n",
                " \n",
                "for est in estudiantes:\n",
                "    print(f\"hola {est}, como estas?\")\n",
                "    \n",
                "    #Avanzado\n",
                "    est_mayuscula =[est.upper() for est in estudiantes]\n",
                "print(est_mayuscula)\n",
                "    \n"
            ]
        },
        {
            "cell_type": "code",
            "execution_count": null,
            "metadata": {
                "azdata_cell_guid": "27388f2a-2d5a-4371-bcff-d151d7ddd554",
                "language": "python"
            },
            "outputs": [],
            "source": [
                "nombres = ['ana', 'luis', 'maría']\n",
                "\n"
            ]
        },
        {
            "attachments": {},
            "cell_type": "markdown",
            "metadata": {
                "azdata_cell_guid": "d181a09f-a34a-4842-8dcd-6fdbd3d43605",
                "language": "python"
            },
            "source": [
                "- **Usando un Bucle `while`:**"
            ]
        },
        {
            "cell_type": "code",
            "execution_count": null,
            "metadata": {},
            "outputs": [
                {
                    "name": "stdout",
                    "output_type": "stream",
                    "text": [
                        "leo\n",
                        "Dinero\n",
                        "Sapo\n"
                    ]
                }
            ],
            "source": [
                "estudiantes = [\"leo\",\"Dinero\",\"Sapo\"]\n",
                "i = 0\n",
                "Tamaño = len(estudiantes) \n",
                "while i < Tamaño:\n",
                "    print(estudiantes[i])\n",
                "    i += 1  \n"
            ]
        },
        {
            "cell_type": "code",
            "execution_count": null,
            "metadata": {},
            "outputs": [],
            "source": []
        },
        {
            "cell_type": "code",
            "execution_count": null,
            "metadata": {
                "azdata_cell_guid": "eb35731a-c18e-484a-81b0-bae745e84bc7",
                "language": "python"
            },
            "outputs": [
                {
                    "name": "stdout",
                    "output_type": "stream",
                    "text": [
                        "No puede ingresar al bar, regrese el proximo año\n",
                        "No puede ingresar al bar, regrese el proximo año\n",
                        "No puede ingresar al bar, regrese el proximo año\n",
                        "No puede ingresar al bar, regrese el proximo año\n",
                        "No puede ingresar al bar, regrese el proximo año\n",
                        "No puede ingresar al bar, regrese el proximo año\n",
                        "No puede ingresar al bar, regrese el proximo año\n",
                        "No puede ingresar al bar, regrese el proximo año\n",
                        "No puede ingresar al bar, regrese el proximo año\n",
                        "No puede ingresar al bar, regrese el proximo año\n",
                        "No puede ingresar al bar, regrese el proximo año\n",
                        "No puede ingresar al bar, regrese el proximo año\n",
                        "No puede ingresar al bar, regrese el proximo año\n",
                        "No puede ingresar al bar, regrese el proximo año\n",
                        "No puede ingresar al bar, regrese el proximo año\n",
                        "No puede ingresar al bar, regrese el proximo año\n",
                        "No puede ingresar al bar, regrese el proximo año\n"
                    ]
                }
            ],
            "source": [
                "edad = 1\n",
                "while edad <=17:\n",
                "    if edad <=17:\n",
                "        print(\"No puede ingresar al bar, regrese el proximo año\")\n",
                "        edad += 1\n",
                "\n"
            ]
        },
        {
            "attachments": {},
            "cell_type": "markdown",
            "metadata": {
                "azdata_cell_guid": "83df706e-8351-4880-82f4-cecda108ac1f",
                "language": "python"
            },
            "source": [
                "- **Comprobación de Pertenencia:**"
            ]
        },
        {
            "cell_type": "code",
            "execution_count": 3,
            "metadata": {},
            "outputs": [
                {
                    "name": "stdout",
                    "output_type": "stream",
                    "text": [
                        "estudiante de programacion\n"
                    ]
                }
            ],
            "source": [
                "estudiantes = [\"leo\",\"Dinero\",\"Sapo\"]\n",
                "estudiantes = input(\"ingrese el nombre del estudiante: \")\n",
                "if (estudiantes in estudiantes):\n",
                "    print(\"estudiante de programacion\")\n",
                "else:\n",
                "    print (\"no es estudiante de programacion\")"
            ]
        },
        {
            "attachments": {},
            "cell_type": "markdown",
            "metadata": {
                "azdata_cell_guid": "7a387c19-3988-4cdd-a37b-33becdadbb46"
            },
            "source": [
                "### **7\\. Copiando Listas**\n",
                "\n",
                "- **Asignación Directa (Referencias):**\n",
                "    \n",
                "\n",
                "Ambas variables apuntan a la misma lista en memoria."
            ]
        },
        {
            "cell_type": "code",
            "execution_count": 4,
            "metadata": {
                "azdata_cell_guid": "12496b36-600f-4f59-8607-58eafbbac4e5",
                "language": "python"
            },
            "outputs": [
                {
                    "name": "stdout",
                    "output_type": "stream",
                    "text": [
                        "[1, 2, 3, 4]\n"
                    ]
                }
            ],
            "source": [
                "lista_original = [1, 2, 3]\n",
                "lista_copia = lista_original\n",
                "lista_copia.append(4)\n",
                "print(lista_original)  # Output: [1, 2, 3, 4]"
            ]
        },
        {
            "attachments": {},
            "cell_type": "markdown",
            "metadata": {
                "azdata_cell_guid": "cf248c2d-d39b-4046-ad72-f58b181e000e",
                "language": "python"
            },
            "source": [
                "- **Copia Superficial:**\n",
                "\n",
                "Se crea una nueva lista, pero si contiene objetos mutables, estos no se copian profundamente."
            ]
        },
        {
            "cell_type": "code",
            "execution_count": null,
            "metadata": {
                "azdata_cell_guid": "48c67f08-728c-4da5-9dac-10a87df4b875",
                "language": "python",
                "tags": []
            },
            "outputs": [],
            "source": [
                "lista_copia = lista_original.copy()\n",
                "# O\n",
                "lista_copia = lista_original[:]\n"
            ]
        },
        {
            "attachments": {},
            "cell_type": "markdown",
            "metadata": {
                "azdata_cell_guid": "348e33ef-87ca-44e8-b013-304353b0c9b8",
                "language": "python"
            },
            "source": [
                "- **Copia Profunda:**\n",
                "\n",
                "Copia completamente independiente, incluso para objetos mutables anidados."
            ]
        },
        {
            "cell_type": "code",
            "execution_count": null,
            "metadata": {
                "azdata_cell_guid": "cfa4773a-f8cc-486e-9c9e-3610f6026c4c",
                "language": "python"
            },
            "outputs": [],
            "source": [
                "import copy\n",
                "lista_copia_profunda = copy.deepcopy(lista_original)\n"
            ]
        },
        {
            "cell_type": "code",
            "execution_count": null,
            "metadata": {},
            "outputs": [],
            "source": []
        },
        {
            "attachments": {},
            "cell_type": "markdown",
            "metadata": {
                "azdata_cell_guid": "752f7af5-c4ff-40c2-b07c-2b601006c28d",
                "language": "python"
            },
            "source": [
                "### \n",
                "\n",
                "- **Listas Anidadas**\n",
                "\n",
                "Las listas pueden contener otras listas."
            ]
        },
        {
            "cell_type": "code",
            "execution_count": 5,
            "metadata": {
                "azdata_cell_guid": "d510a921-a322-48da-a3aa-fe23d30fcc36",
                "language": "python"
            },
            "outputs": [
                {
                    "name": "stdout",
                    "output_type": "stream",
                    "text": [
                        "3\n"
                    ]
                }
            ],
            "source": [
                "lista_anidada = [[1, 2], [3, 4], [5, 6]]\n",
                "print(lista_anidada[1][0])  # Output: 3\n"
            ]
        },
        {
            "attachments": {},
            "cell_type": "markdown",
            "metadata": {
                "azdata_cell_guid": "0e8ba81c-d786-4eda-8549-651a813c1054",
                "language": "python"
            },
            "source": [
                "### **10. Funciones Integradas Útiles**\n",
                "\n",
                "numeros = \\[1, 2, 3, 4, 5, 6\\]\n",
                "\n",
                "- **len(lista):** Devuelve el número de elementos.\n",
                "    \n",
                "    ```python\n",
                "    print(len(numeros))  # Output: 6\n",
                "    ```\n",
                "    \n",
                "- **sum(lista):** Suma los elementos (si son numéricos).\n",
                "    \n",
                "   ```python\n",
                "    print(sum(numeros))  # Output: 21\n",
                "    ```\n",
                "    \n",
                "- **min(lista), max(lista):** Devuelve el valor mínimo y máximo.\n",
                "    \n",
                "     ```python\n",
                "    print(min(numeros))  # Output: 1print(max(numeros))  # Output: 6\n",
                "    \n",
                "    ```\n",
                "    \n",
                "\n",
                "### **Aplicaciones Prácticas de las Listas**"
            ]
        },
        {
            "cell_type": "code",
            "execution_count": null,
            "metadata": {},
            "outputs": [
                {
                    "name": "stdout",
                    "output_type": "stream",
                    "text": [
                        "96\n",
                        "75\n",
                        "426\n",
                        "5\n",
                        "El promedio de las notas es 85.2\n"
                    ]
                }
            ],
            "source": [
                "notas = [96, 85, 78, 92,75]\n",
                "print(max(notas))  \n",
                "print(min(notas))\n",
                "\n",
                "print(sum(notas))\n",
                "#cantidad de notas\n",
                "print(len(notas))    \n",
                "\n",
                "promedio = sum(notas) / len(notas)\n",
                "print(f\"El promedio de las notas es\", promedio)\n"
            ]
        },
        {
            "attachments": {},
            "cell_type": "markdown",
            "metadata": {
                "azdata_cell_guid": "c24a4bae-ea4c-485d-8067-d5e07afb3435",
                "language": "python"
            },
            "source": [
                "# **Actividad Interactiva: Análisis de Datos Simple con Listas**\n",
                "\n",
                "**Objetivo:** Aplicar los conceptos aprendidos sobre listas para realizar un análisis de datos sencillo.\n",
                "\n",
                "**Descripción de la Actividad:**\n",
                "\n",
                "Trabajaremos con una lista de temperaturas registradas durante una semana y realizarán varias operaciones para extraer información útil.\n",
                "\n",
                "**Pasos de la Actividad:**\n",
                "\n",
                "1. **Creación de la Lista de Datos:**"
            ]
        },
        {
            "cell_type": "code",
            "execution_count": null,
            "metadata": {
                "azdata_cell_guid": "9632a0a3-3979-4a34-b08b-82179de35bc0",
                "language": "python"
            },
            "outputs": [],
            "source": [
                "#               Lu  Ma  Mi  Ju  Vi  Sa  Do\n",
                "temperaturas = [22, 24, 19, 23, 25, 20, 21]\n",
                "\n"
            ]
        },
        {
            "attachments": {},
            "cell_type": "markdown",
            "metadata": {
                "azdata_cell_guid": "53602225-9571-4b97-af9b-0921d1a8b986",
                "language": "python"
            },
            "source": [
                "2. **Calcular la Temperatura Media de la Semana:**"
            ]
        },
        {
            "cell_type": "code",
            "execution_count": 27,
            "metadata": {
                "azdata_cell_guid": "07d09035-3640-4277-9d81-c086f12e07d6",
                "language": "python"
            },
            "outputs": [
                {
                    "name": "stdout",
                    "output_type": "stream",
                    "text": [
                        "La temperatura media de la semana es 22.0\n"
                    ]
                }
            ],
            "source": [
                "temperaturas = [22, 24, 19, 23, 25, 20, 21]\n",
                "temperatura = sum(temperaturas) / len(temperaturas)\n",
                "print(f\"La temperatura media de la semana es {temperatura}\")"
            ]
        },
        {
            "attachments": {},
            "cell_type": "markdown",
            "metadata": {
                "azdata_cell_guid": "1516e477-febc-478a-b4dc-faca948b9b44",
                "language": "python"
            },
            "source": [
                "3. **Encontrar la Temperatura Máxima y Mínima:**"
            ]
        },
        {
            "cell_type": "code",
            "execution_count": null,
            "metadata": {
                "azdata_cell_guid": "fa450303-5f00-4c59-a3c8-ace9daea9196",
                "language": "python"
            },
            "outputs": [
                {
                    "name": "stdout",
                    "output_type": "stream",
                    "text": [
                        "la temperatura maxima es 25\n",
                        "la temperatura minima es 19\n"
                    ]
                }
            ],
            "source": [
                "temperaturas = [22, 24, 19, 23, 25, 20, 21]\n",
                " \n",
                "print(\"la temperatura maxima es\", max(temperaturas))\n",
                "\n",
                "print(\"la temperatura minima es\", min(temperaturas))\n"
            ]
        },
        {
            "attachments": {},
            "cell_type": "markdown",
            "metadata": {
                "azdata_cell_guid": "af7ad57b-4cdd-444f-a6bf-b3cb9b531c7e",
                "language": ""
            },
            "source": [
                "4. **Días con Temperatura por Encima de la Media:**"
            ]
        },
        {
            "cell_type": "code",
            "execution_count": 33,
            "metadata": {
                "azdata_cell_guid": "9e4ad645-b57a-46c6-9a9b-4accd0fbab0c",
                "language": "python"
            },
            "outputs": [
                {
                    "name": "stdout",
                    "output_type": "stream",
                    "text": [
                        "Temperaturas por encima de la media: [24, 23, 25]\n"
                    ]
                }
            ],
            "source": [
                "temperaturas = [22, 24, 19, 23, 25, 20, 21]\n",
                "\n",
                "dias_encima_media = [temp for temp in temperaturas if temp > media]\n",
                "print(\"Temperaturas por encima de la media:\", dias_encima_media)"
            ]
        },
        {
            "attachments": {},
            "cell_type": "markdown",
            "metadata": {
                "azdata_cell_guid": "a5cb67cf-7434-4871-82b6-ef58b167bb6e",
                "language": "python"
            },
            "source": [
                "5. **Modificar la Lista para Incluir una Nueva Temperatura y Recalcular:**\n",
                "\n",
                "- Agregar la temperatura del día extra:"
            ]
        },
        {
            "cell_type": "code",
            "execution_count": 39,
            "metadata": {
                "azdata_cell_guid": "7ee71561-594c-4d97-b706-4f2a2bb63c2f",
                "language": "python"
            },
            "outputs": [
                {
                    "name": "stdout",
                    "output_type": "stream",
                    "text": [
                        "[36, 22, 24, 19, 23, 25, 20, 21]\n"
                    ]
                }
            ],
            "source": [
                "temperaturas = [22, 24, 19, 23, 25, 20, 21]\n",
                "temperaturas.insert(0, 36)\n",
                "print(temperaturas)\n"
            ]
        },
        {
            "attachments": {},
            "cell_type": "markdown",
            "metadata": {
                "azdata_cell_guid": "c9ab22f0-6c9d-43d9-9c5c-12589b7e878e",
                "language": "python"
            },
            "source": [
                "- **Recalcular la temperatura media:**"
            ]
        },
        {
            "cell_type": "code",
            "execution_count": 40,
            "metadata": {
                "azdata_cell_guid": "2b9302b0-9e3d-4b31-9970-fe7888d6943b",
                "language": "python"
            },
            "outputs": [
                {
                    "name": "stdout",
                    "output_type": "stream",
                    "text": [
                        "La temperatura media de la semana es 23.75\n"
                    ]
                }
            ],
            "source": [
                "temperaturas = [36,22, 24, 19, 23, 25, 20, 21]\n",
                "temperatura = sum(temperaturas) / len(temperaturas)\n",
                "print(f\"La temperatura media de la semana es {temperatura}\")"
            ]
        },
        {
            "attachments": {},
            "cell_type": "markdown",
            "metadata": {
                "azdata_cell_guid": "01af2113-4fe5-4822-8e15-0a5c4f07d330",
                "language": "python"
            },
            "source": [
                "6. **Ordenar las Temperaturas y Mostrar el Resultado:**"
            ]
        },
        {
            "cell_type": "code",
            "execution_count": 37,
            "metadata": {
                "azdata_cell_guid": "b5678c84-09d7-43b3-b63c-b7473d31b781",
                "language": "python"
            },
            "outputs": [
                {
                    "name": "stdout",
                    "output_type": "stream",
                    "text": [
                        "Temperaturas ordenadas: [19, 20, 21, 22, 23, 24, 25]\n"
                    ]
                }
            ],
            "source": [
                "temperaturas = [22, 24, 19, 23, 25, 20, 21]\n",
                "\n",
                "temperaturas.sort()\n",
                "print(\"Temperaturas ordenadas:\", temperaturas)"
            ]
        },
        {
            "attachments": {},
            "cell_type": "markdown",
            "metadata": {
                "azdata_cell_guid": "6016e3d3-8a04-4dd4-a69a-31ebd14bc46c",
                "language": "python"
            },
            "source": [
                "**Extensión de la Actividad:**\n",
                "\n",
                "- **Visualización Simple:**\n",
                "    \n",
                "    Los estudiantes pueden crear un gráfico de las temperaturas usando `matplotlib` (si se ha visto previamente)."
            ]
        },
        {
            "cell_type": "code",
            "execution_count": 31,
            "metadata": {
                "azdata_cell_guid": "cea0661b-608d-4073-8286-960365e894e8",
                "language": ""
            },
            "outputs": [
                {
                    "ename": "ModuleNotFoundError",
                    "evalue": "No module named 'matplotlib'",
                    "output_type": "error",
                    "traceback": [
                        "\u001b[31m---------------------------------------------------------------------------\u001b[39m",
                        "\u001b[31mModuleNotFoundError\u001b[39m                       Traceback (most recent call last)",
                        "\u001b[36mCell\u001b[39m\u001b[36m \u001b[39m\u001b[32mIn[31]\u001b[39m\u001b[32m, line 1\u001b[39m\n\u001b[32m----> \u001b[39m\u001b[32m1\u001b[39m \u001b[38;5;28;01mimport\u001b[39;00m\u001b[38;5;250m \u001b[39m\u001b[34;01mmatplotlib\u001b[39;00m\u001b[34;01m.\u001b[39;00m\u001b[34;01mpyplot\u001b[39;00m\u001b[38;5;250m \u001b[39m\u001b[38;5;28;01mas\u001b[39;00m\u001b[38;5;250m \u001b[39m\u001b[34;01mplt\u001b[39;00m\n\u001b[32m      3\u001b[39m dias = [\u001b[33m'\u001b[39m\u001b[33mLun\u001b[39m\u001b[33m'\u001b[39m, \u001b[33m'\u001b[39m\u001b[33mMar\u001b[39m\u001b[33m'\u001b[39m, \u001b[33m'\u001b[39m\u001b[33mMié\u001b[39m\u001b[33m'\u001b[39m, \u001b[33m'\u001b[39m\u001b[33mJue\u001b[39m\u001b[33m'\u001b[39m, \u001b[33m'\u001b[39m\u001b[33mVie\u001b[39m\u001b[33m'\u001b[39m, \u001b[33m'\u001b[39m\u001b[33mSáb\u001b[39m\u001b[33m'\u001b[39m, \u001b[33m'\u001b[39m\u001b[33mDom\u001b[39m\u001b[33m'\u001b[39m, \u001b[33m'\u001b[39m\u001b[33mExtra\u001b[39m\u001b[33m'\u001b[39m]\n\u001b[32m      4\u001b[39m plt.plot(dias, temperaturas, marker=\u001b[33m'\u001b[39m\u001b[33mo\u001b[39m\u001b[33m'\u001b[39m)\n",
                        "\u001b[31mModuleNotFoundError\u001b[39m: No module named 'matplotlib'"
                    ]
                }
            ],
            "source": [
                "import matplotlib.pyplot as plt\n",
                "\n",
                "dias = ['Lun', 'Mar', 'Mié', 'Jue', 'Vie', 'Sáb', 'Dom', 'Extra']\n",
                "plt.plot(dias, temperaturas, marker='o')\n",
                "plt.title('Temperaturas Semanales')\n",
                "plt.xlabel('Días')\n",
                "plt.ylabel('Temperatura (°C)')\n",
                "plt.show() \n"
            ]
        }
    ],
    "metadata": {
        "kernelspec": {
            "display_name": "Python 3",
            "language": "python",
            "name": "python3"
        },
        "language_info": {
            "codemirror_mode": {
                "name": "ipython",
                "version": 3
            },
            "file_extension": ".py",
            "mimetype": "text/x-python",
            "name": "python",
            "nbconvert_exporter": "python",
            "pygments_lexer": "ipython3",
            "version": "3.13.3"
        }
    },
    "nbformat": 4,
    "nbformat_minor": 2
}
